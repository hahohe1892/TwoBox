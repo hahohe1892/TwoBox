{
 "cells": [
  {
   "cell_type": "code",
   "execution_count": 52,
   "metadata": {},
   "outputs": [],
   "source": [
    "import numpy as np\n",
    "from scipy import interpolate\n",
    "import matplotlib.pyplot as plt\n",
    "from TwoBox_calc_FORCINGS import TwoBox_calc_FORCINGS\n",
    "from TwoBox_Plot_TimeSeries import TwoBox_Plot_TimeSeries"
   ]
  },
  {
   "cell_type": "code",
   "execution_count": 53,
   "metadata": {},
   "outputs": [],
   "source": [
    "# TwoBox is a very simple box model calculating the changes in\n",
    "# global SST temperature with time based on prescribed feedback factors\n",
    "# and heat capacity with interactions to the deep ocean.\n",
    "#\n",
    "# Author: Asgeir Sorteberg,\n",
    "#         Geophysical Institute, University of Bergen.\n",
    "#         email: asgeir.sorteberg@gfi.uib.no\n",
    "#\n",
    "#         Feb. 2011\n",
    "############################################################################"
   ]
  },
  {
   "cell_type": "code",
   "execution_count": 54,
   "metadata": {},
   "outputs": [],
   "source": [
    "# --------------\n",
    "# read parameters and model settings\n",
    "# --------------\n",
    "exec(compile(open('TwoBox_PARAM.py').read(), 'TwoBox_PARAM.py', 'exec'))"
   ]
  },
  {
   "cell_type": "code",
   "execution_count": 56,
   "metadata": {},
   "outputs": [
    {
     "name": "stdout",
     "output_type": "stream",
     "text": [
      "TwoBox: Model experiment: TwoBox_simulation\n"
     ]
    }
   ],
   "source": [
    "print('TwoBox: Model experiment: ' + sim_name)"
   ]
  },
  {
   "cell_type": "code",
   "execution_count": 57,
   "metadata": {},
   "outputs": [],
   "source": [
    "# --------------\n",
    "# sum of feedback parameters [Wm-2K-1]\n",
    "# --------------\n",
    "lamda_sum=sum([lambda_planck,\n",
    "    lambda_lapse,\n",
    "    lambda_water,\n",
    "    lambda_cloud,\n",
    "    lambda_albedo,\n",
    "    lambda_other])\n",
    "\n",
    "#print('TwoBox: sum of feedback parameters: ' + str(lamda_sum) + ' Wm-2/K')\n"
   ]
  },
  {
   "cell_type": "code",
   "execution_count": 58,
   "metadata": {},
   "outputs": [],
   "source": [
    "# --------------\n",
    "# Some derived constants\n",
    "# -------------\n",
    "\n",
    "# effective heat capacity of the atmosphere-ocean system [J m-2 K-1]\n",
    "CEFF_M=f_o*H_MIX*CPO*RHO\n",
    "CEFF_D=f_o*H_DEEP*CPO*RHO"
   ]
  },
  {
   "cell_type": "code",
   "execution_count": 59,
   "metadata": {},
   "outputs": [],
   "source": [
    "# --------------\n",
    "# Radiative forcings [W/m2]\n",
    "# --------------\n",
    "# calculate forcings relative to base period\n",
    "base_syr=1750\n",
    "base_eyr=1750\n",
    "\n",
    "#print('TwoBox: Forcing calculated relative to ' + str(base_syr) + '-' + str(base_eyr) + ' period')\n"
   ]
  },
  {
   "cell_type": "code",
   "execution_count": 60,
   "metadata": {},
   "outputs": [
    {
     "name": "stdout",
     "output_type": "stream",
     "text": [
      "TwoBox_read_IPCC_AR5_historical_forcing: reading IPCC AR5 forcing data 1750-2011\n",
      "TwoBox_read_IPCC_AR5_historical_forcing: Finished\n",
      "TwoBox_read_IPCC_AR5_future_forcing: reading IPCC AR5 forcing data 2010-2090\n",
      "TwoBox_read_IPCC_AR5_future_forcing: Finished\n",
      "TwoBox_calc_FORCINGS:Finished\n"
     ]
    }
   ],
   "source": [
    "total_year,total_forcing,wmghg_year,wmghg_data,solar_year,solar_data,volc_year,volc_data,landuse_year,landuse_data,manaero_year,manaero_data=TwoBox_calc_FORCINGS(forcing_dataset,forcing_dir,base_syr,base_eyr)\n"
   ]
  },
  {
   "cell_type": "code",
   "execution_count": 61,
   "metadata": {},
   "outputs": [],
   "source": [
    "if forcing_dataset.upper().strip() in ['IPCC_AR5_HISTORICAL', 'PMIP3']:\n",
    "    radiative_forcing=np.zeros(len(total_year))\n",
    "    forcings_dict={} # store information on which forcings should be plotted later\n",
    "    # sum up the forcings active\n",
    "    # Greenhouse gas forcing on=1 off=0\n",
    "    \n",
    "    if switch_ghg==1:\n",
    "        radiative_forcing=radiative_forcing+wmghg_data\n",
    "        forcings_dict['GREENHOUSE GASES']=wmghg_data\n",
    "        print('TwoBox: Greenhouse gas forcing: ON')\n",
    "    else:\n",
    "        wmghg_data=wmghg_data*0\n",
    "        print('TwoBox: Greenhouse gas forcing: OFF')\n",
    "        \n",
    "    # solar forcing on=1 off=0\n",
    "    if switch_solar==1:\n",
    "        radiative_forcing=radiative_forcing+solar_data\n",
    "        forcings_dict['SOLAR']=solar_data\n",
    "        print('TwoBox: Solar forcing: ON')\n",
    "    else:\n",
    "        solar_data=solar_data*0\n",
    "        print('TwoBox: Solar forcing: OFF')\n",
    "    \n",
    "    # Volcanic forcing on=1 off=0    \n",
    "    if switch_volc==1:\n",
    "        radiative_forcing=radiative_forcing+volc_data\n",
    "        forcings_dict['VOLCANIC']=volc_data\n",
    "        print('TwoBox: Volcanic forcing: ON')\n",
    "    else:\n",
    "        volc_data=volc_data*0\n",
    "        print('TwoBox: Volcanic forcing: OFF')\n",
    "    \n",
    "    # Landuse forcing on=1 off=0\n",
    "    if switch_land==1:\n",
    "        radiative_forcing=radiative_forcing+landuse_data\n",
    "        forcings_dict['LANDUSE']=landuse_data\n",
    "        print('TwoBox: Landuse forcing: ON')\n",
    "    else:\n",
    "        landuse_data=landuse_data*0\n",
    "        print('TwoBox: Landuse forcing: OFF')\n",
    "        \n",
    "    # Pollution particle forcing on=1 off=0\n",
    "    if switch_aero==1:\n",
    "        radiative_forcing=radiative_forcing+manaero_data\n",
    "        forcings_dict['MAN MADE AEROSOLS']=manaero_data\n",
    "        print('TwoBox: Aerosol forcing: ON')\n",
    "    else:\n",
    "        manaero_Data=manaero_data*0\n",
    "        print('TwoBox: Aerosol forcing: OFF')\n",
    "        \n",
    "    \n",
    "else:\n",
    "    radiative_forcing=total_forcing"
   ]
  },
  {
   "cell_type": "code",
   "execution_count": 62,
   "metadata": {},
   "outputs": [
    {
     "name": "stdout",
     "output_type": "stream",
     "text": [
      "TwoBox: Deep Ocean heat uptake: ON\n",
      "TwoBox: Deep Ocean heat uptake: -0.6Wm-2/k\n"
     ]
    }
   ],
   "source": [
    "if switch_ocnheat==1:\n",
    "    print('TwoBox: Deep Ocean heat uptake: ON')\n",
    "else:\n",
    "    print('TwoBox: Deep Ocean heat uptake: OFF')\n",
    "print('TwoBox: Deep Ocean heat uptake: ' + str(gamma) + 'Wm-2/k')"
   ]
  },
  {
   "cell_type": "code",
   "execution_count": 63,
   "metadata": {},
   "outputs": [
    {
     "name": "stdout",
     "output_type": "stream",
     "text": [
      "TwoBox: Stocastic deep Ocean heat uptake: OFF\n"
     ]
    }
   ],
   "source": [
    "if switch_ocnheat==1 and switch_stocastic==1:\n",
    "    print('TwoBox: Stocastic deep Ocean heat uptake: ON')\n",
    "    print('TwoBox:  Standard deviation of ocean heat uptake: '+ str(gamma_std)+ 'Wm-2/K')\n",
    "else:\n",
    "    print('TwoBox: Stocastic deep Ocean heat uptake: OFF')\n",
    "    "
   ]
  },
  {
   "cell_type": "code",
   "execution_count": 64,
   "metadata": {},
   "outputs": [],
   "source": [
    "model_year=total_year\n",
    "\n",
    "# -------------\n",
    "# Timestep etc.\n",
    "# --------------\n",
    "\n",
    "# timestep in days\n",
    "Dt_day=365\n",
    "# timestep in seconds\n",
    "Dt=Dt_day*24*60*60"
   ]
  },
  {
   "cell_type": "code",
   "execution_count": 65,
   "metadata": {},
   "outputs": [],
   "source": [
    "# interpolate forcing to chosen timestep\n",
    "model_year_interp=np.arange(model_year[0], model_year[-1]+1, Dt_day/365)\n",
    "radiative_forcing_interp_fun=interpolate.interp1d(model_year, radiative_forcing, 'linear')\n",
    "radiative_forcing_interp=radiative_forcing_interp_fun(model_year_interp)\n",
    "\n",
    "# Number of timesteps to run model for\n",
    "Nt=len(model_year_interp)\n",
    "\n",
    "# Number of times to run model for\n",
    "if switch_ocnheat==1 and switch_stocastic==1:\n",
    "    No_sim=10\n",
    "else:\n",
    "    No_sim=1"
   ]
  },
  {
   "cell_type": "code",
   "execution_count": 66,
   "metadata": {},
   "outputs": [],
   "source": [
    "# Deep Ocean heat uptake efficiency\n",
    "gam=np.ones((No_sim, Nt))*gamma\n",
    "if switch_ocnheat==1 and switch_stocastic==1:\n",
    "    for i in range(len(gam)):\n",
    "        gam[i]=np.random.normal(gamma, gamma_std, Nt)\n",
    "        # make sure mean is gamma\n",
    "        gam[i]=gam[i]-np.mean(gam[i]+gamma)"
   ]
  },
  {
   "cell_type": "code",
   "execution_count": 67,
   "metadata": {},
   "outputs": [],
   "source": [
    "# -------------\n",
    "# loop over all simulations\n",
    "# -------------\n",
    "Ts_all=np.zeros((No_sim, Nt))  #initialize arrays where all data will be stored\n",
    "To_all=np.zeros((No_sim, Nt))\n",
    "for i in range(No_sim):\n",
    "    \n",
    "    # -------------\n",
    "    #  Initial condition\n",
    "    # --------------\n",
    "    Ts_init=0\n",
    "    To_init=0\n",
    "    \n",
    "    Ts=np.array(()) # initialize arrays where individual time series will be stored\n",
    "    To=np.array(())\n",
    "    # -------------\n",
    "    # Start Time integration\n",
    "    # -------------\n",
    "    for t in range(Nt):\n",
    "        # --------------\n",
    "        # Temperature tendencies [Ks-1]\n",
    "        #     dTs/dt, dTs_dt\n",
    "        # --------------\n",
    "        \n",
    "        if t==0:\n",
    "            dTs_dt=(radiative_forcing_interp[t]+(lamda_sum*Ts_init)+(gam[i,t]*(Ts_init-To_init)))/CEFF_M\n",
    "            dTo_dt=-gam[i,t]*(Ts_init-To_init)/CEFF_D\n",
    "        else:\n",
    "            dTs_dt=(radiative_forcing_interp[t]+(lamda_sum*Ts[t-1])+(gam[i,t]*(Ts[t-1]-To[t-1])))/CEFF_M\n",
    "            dTo_dt=-gam[i,t]*(Ts[t-1]-To[t-1])/CEFF_D\n",
    "        \n",
    "        # ----------------------------------------------------------------------\n",
    "        # Step temperature forward in time (by \"Euler forward\"\n",
    "        # or \"forward-in-time\" method)\n",
    "        #----------------------------------------------------------------------\n",
    "        if t==0:\n",
    "            Ts=np.append(Ts, Ts_init+dTs_dt*Dt)\n",
    "            To=np.append(To, To_init+dTo_dt*Dt)\n",
    "        else:\n",
    "            Ts=np.append(Ts, Ts[t-1]+dTs_dt*Dt)\n",
    "            To=np.append(To, To[t-1]+dTo_dt*Dt)\n",
    "    \n",
    "    # save data\n",
    "    Ts_all[i]=Ts\n",
    "    To_all[i]=To\n",
    "    #Ts_all=np.append(Ts_all, Ts)\n",
    "    #To_all=np.append(To_all, To)"
   ]
  },
  {
   "cell_type": "code",
   "execution_count": 68,
   "metadata": {},
   "outputs": [
    {
     "data": {
      "text/plain": [
       "<matplotlib.legend.Legend at 0x7fbe0f1cb208>"
      ]
     },
     "execution_count": 68,
     "metadata": {},
     "output_type": "execute_result"
    },
    {
     "data": {
      "image/png": "[encoded data removed]",
      "text/plain": [
       "<Figure size 432x288 with 1 Axes>"
      ]
     },
     "metadata": {
      "needs_background": "light"
     },
     "output_type": "display_data"
    },
    {
     "data": {
      "image/png": "[encoded data removed]",
      "text/plain": [
       "<Figure size 432x288 with 1 Axes>"
      ]
     },
     "metadata": {
      "needs_background": "light"
     },
     "output_type": "display_data"
    }
   ],
   "source": [
    "#----------------------------------------------------------------------\n",
    "# Plot data\n",
    "#---------------------------------------------------------------------\n",
    "\n",
    "# ----------------\n",
    "# Select reference period\n",
    "# Temp anomalies are in mean 0 over the reference period\n",
    "# ------------------\n",
    "\n",
    "# reference period for making anomalies\n",
    "base_syr=1901\n",
    "base_eyr=2000\n",
    "\n",
    "# make model  anomalies  realtive to base period\n",
    "indx=np.logical_and(model_year>base_syr, model_year<=base_eyr)\n",
    "Ts_anom=np.zeros((No_sim, Nt))\n",
    "To_anom=np.zeros((No_sim, Nt))\n",
    "for i in range(No_sim):\n",
    "    Ts_anom[i]=Ts_all[i]-np.mean(Ts_all[i, indx])\n",
    "    To_anom[i]=To_all[i]-np.mean(To_all[i, indx])\n",
    "\n",
    "    \n",
    "# figure format\n",
    "prnt='pdf'\n",
    "# name of figures\n",
    "output_name1='TwoBox_Radiative_forcing'\n",
    "output_name2='TwoBox_Temperature_anomalies'\n",
    "\n",
    "# -------------\n",
    "# plot timeseries of forcings\n",
    "# -------------------\n",
    "\n",
    "# yeasr to plot\n",
    "plot_syr=total_year[0]\n",
    "plot_eyr=total_year[-1]\n",
    "\n",
    "# Data to plot        \n",
    "plot_x=np.arange(plot_syr, plot_eyr+1)\n",
    "plot_data=np.nan*np.ones((int(plot_eyr+1-plot_syr)))\n",
    "\n",
    "# select times to plot\n",
    "all_forcings=radiative_forcing\n",
    "plot_data[np.isin(plot_x, model_year)]=all_forcings[np.isin(model_year, plot_x)]\n",
    "\n",
    "# x-axis\n",
    "xaxes_limits=((plot_syr, plot_eyr+1))\n",
    "#y-axis\n",
    "#yaxes_limits=((np.min(plot_data)-.1, np.max(plot_data)+.1))\n",
    "\n",
    "# legend\n",
    "legend_text='TOTAL FORCING'\n",
    "legend_labels=[]\n",
    "\n",
    "y_label='W/m^2'\n",
    "x_label='Years'\n",
    "figure_text='Radiative forcing'\n",
    "\n",
    "ps=[]\n",
    "Figure1=plt.figure(1)\n",
    "ps.append(TwoBox_Plot_TimeSeries(plot_x,plot_data,xaxes_limits,x_label,[],y_label,figure_text,legend_text))\n",
    "\n",
    "if forcing_dataset.upper().strip() in ['IPCC_AR5_HISTORICAL', 'PMIP3']:\n",
    "    for forcing in forcings_dict.keys():\n",
    "        #plot_data=np.array(list(forcings_dict.values()))\n",
    "        plot_data=forcings_dict[forcing]\n",
    "        legend_text=forcing\n",
    "        ps.append(TwoBox_Plot_TimeSeries(plot_x, plot_data, xaxes_limits, x_label, [], y_label, figure_text, legend_text))\n",
    "plt.legend(handles=ps, title='Legend', bbox_to_anchor=(1.05, 1), loc='upper left')\n",
    "\n",
    "\n",
    "ps=[]\n",
    "Figure2=plt.figure(2)\n",
    "# Data to plot        \n",
    "plot_x=np.arange(plot_syr, plot_eyr+1)\n",
    "plot_data=Ts_anom\n",
    "\n",
    "# select times to plot\n",
    "plot_data[:,np.isin(plot_x, model_year)]=Ts_anom[:,np.isin(model_year, plot_x)]\n",
    "        \n",
    "yaxes_limits=((np.min(plot_data)-.1, np.max(plot_data)+.1))\n",
    "y_label='Temperature anomalies [$^\\circ$C]'\n",
    "figure_text='Temperature'\n",
    "for i, data in enumerate(plot_data):\n",
    "    legend_text='Sim{}'.format(i+1)\n",
    "    ps.append(TwoBox_Plot_TimeSeries(plot_x,data,xaxes_limits,x_label,[],y_label,figure_text,legend_text))\n",
    "plt.legend(handles=ps, title='Legend', bbox_to_anchor=(1.05, 1), loc='upper left')\n"
   ]
  }
 ],
 "metadata": {
  "kernelspec": {
   "display_name": "Python 3",
   "language": "python",
   "name": "python3"
  },
  "language_info": {
   "codemirror_mode": {
    "name": "ipython",
    "version": 3
   },
   "file_extension": ".py",
   "mimetype": "text/x-python",
   "name": "python",
   "nbconvert_exporter": "python",
   "pygments_lexer": "ipython3",
   "version": "3.6.9"
  }
 },
 "nbformat": 4,
 "nbformat_minor": 4
}
