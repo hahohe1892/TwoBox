{
 "cells": [
  {
   "cell_type": "code",
   "execution_count": 3,
   "metadata": {},
   "outputs": [],
   "source": [
    "sim_name='TwoBox_simulation';\n",
    "\n",
    "forcing_dataset='IPCC_AR5_HISTORICAL'\n",
    "\n",
    "forcing_dir='./FORCING_DATA/'"
   ]
  },
  {
   "cell_type": "code",
   "execution_count": 4,
   "metadata": {},
   "outputs": [],
   "source": [
    "# --------------------\n",
    "# Forcing switches [n=1 off=0]\n",
    "# --------------------\n",
    "switch_ghg=1     # Greenhouse gas forcing on=1 off=0\n",
    "switch_solar=1   # Solar forcing on=1 off=0\n",
    "switch_volc=0    # Volcanic forcing on=1 off=0\n",
    "switch_land=1    # Landuse forcing on=1 off=0\n",
    "switch_aero=1    # Pollution particle forcing on=1 off=0"
   ]
  },
  {
   "cell_type": "code",
   "execution_count": 5,
   "metadata": {},
   "outputs": [],
   "source": [
    "# --------------------\n",
    "# Feedback parameters fo TwoBox model [Wm-2/K]\n",
    "#\n",
    "# NOTE: The parameters are not nessecarily independent \n",
    "#       for ex: water vapor and lapse rate feedbacks\n",
    "#       are tightly connected \n",
    "#      (they tend to counteract each other)\n",
    "# --------------------"
   ]
  },
  {
   "cell_type": "code",
   "execution_count": null,
   "metadata": {},
   "outputs": [],
   "source": [
    "# CMIP5 values\n",
    "# Stefan Boltzmann's 'feedback' [Wm-2K-1]\n",
    "lambda_planck=-3.1      # best guesses  [-3.3 to -3.1]\n",
    "\n",
    "# Lapse rate feedback [Wm-2K-1]\n",
    "lambda_lapse=-0.6      # best guesses [-1.2 to -0.5]\n",
    "\n",
    "# water vapor feedback [Wm-2K-1]\n",
    "lambda_water=1.7      # best guesses [1.5 to 2.2]\n",
    "\n",
    "# Clouds feedback [Wm-2K-1]\n",
    "lambda_cloud=0.50      # best guesses [0.1 to 1.2]\n",
    "\n",
    "# Surface albedo feedback [Wm-2K-1]\n",
    "lambda_albedo=0.40      # best guesses [0.1 to 0.4]\n",
    "\n",
    "# Other feedbacks [Wm-2K-1]\n",
    "lambda_other=0.0"
   ]
  },
  {
   "cell_type": "code",
   "execution_count": null,
   "metadata": {},
   "outputs": [],
   "source": [
    "# CMIP3 values\n",
    "lambda_planck=-3.15   \n",
    "lambda_lapse=-0.84      \n",
    "lambda_water=1.8  \n",
    "lambda_cloud=0.68\n",
    "lambda_albedo=0.26"
   ]
  },
  {
   "cell_type": "code",
   "execution_count": null,
   "metadata": {},
   "outputs": [],
   "source": [
    "# NORESM-M 4*CO2 values\n",
    "#lambda_planck=-3.11;   \n",
    "#lambda_lapse=-0.48;      \n",
    "#lambda_water=1.49;      \n",
    "#lambda_cloud=0.58;      \n",
    "#lambda_albedo=0.33;  "
   ]
  },
  {
   "cell_type": "code",
   "execution_count": 7,
   "metadata": {},
   "outputs": [],
   "source": [
    "# --------------------\n",
    "# Heat uptake efficency switches  [n=1 off=0]\n",
    "# --------------------\n",
    "switch_ocnheat=1     #  Deep Ocean heat uptake on=1 off=0\n",
    "switch_stocastic=0#  #  Stocastic deep Ocean heat uptake on=1 off=0"
   ]
  },
  {
   "cell_type": "code",
   "execution_count": null,
   "metadata": {},
   "outputs": [],
   "source": [
    "# --------------------\n",
    "# Deep ocean\n",
    "# Heat uptake efficency [Wm-2K-1]\n",
    "# --------------------\n",
    "# CMIP5 4*CO2\n",
    "#gamma=-0.61 # best guesses [-0.82 to -0.44] Kulbroth and Gregory, 2012\n",
    "# CMIP3\n",
    "gamma=-0.69  # best guesses [-1 to -0.5]\n",
    "# NORESM-M 4*CO2\n",
    "# gamma=-0.75;"
   ]
  },
  {
   "cell_type": "code",
   "execution_count": 9,
   "metadata": {},
   "outputs": [],
   "source": [
    "if switch_ocnheat==1 and  switch_stocastic==1:\n",
    " gamma_std=0.2\n",
    "else:\n",
    " gamma_std=0.0\n"
   ]
  },
  {
   "cell_type": "code",
   "execution_count": 2,
   "metadata": {},
   "outputs": [],
   "source": [
    "# --------------\n",
    "# ocean depths [m]\n",
    "# --------------\n",
    "# mixed layer thickness [m]\n",
    "H_MIX= 100\n",
    "# rest of the ocean [m]     \n",
    "H_DEEP=3700-H_MIX    "
   ]
  },
  {
   "cell_type": "code",
   "execution_count": null,
   "metadata": {},
   "outputs": [],
   "source": [
    "# --------------\n",
    "# Some constants\n",
    "# -------------\n",
    "#density of water (kg m-3)\n",
    "RHO = 1000\n",
    "#specific heat capacity of water (J kg-1 K-1)\n",
    "CPO = 4200\n",
    "       \n",
    "# fraction of earth that is ocean\n",
    "f_o=0.7"
   ]
  }
 ],
 "metadata": {
  "kernelspec": {
   "display_name": "Python 3",
   "language": "python",
   "name": "python3"
  },
  "language_info": {
   "codemirror_mode": {
    "name": "ipython",
    "version": 3
   },
   "file_extension": ".py",
   "mimetype": "text/x-python",
   "name": "python",
   "nbconvert_exporter": "python",
   "pygments_lexer": "ipython3",
   "version": "3.6.9"
  }
 },
 "nbformat": 4,
 "nbformat_minor": 4
}
