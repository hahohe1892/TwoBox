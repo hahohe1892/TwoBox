{
 "cells": [
  {
   "cell_type": "code",
   "execution_count": 2,
   "metadata": {},
   "outputs": [],
   "source": [
    "import numpy as np"
   ]
  },
  {
   "cell_type": "code",
   "execution_count": 54,
   "metadata": {},
   "outputs": [
    {
     "name": "stdout",
     "output_type": "stream",
     "text": [
      "TwoBox_read_IPCC_AR5_historical_forcing: reading IPCC AR5 forcing data 1750-2011\n",
      "TwoBox_read_IPCC_AR5_historical_forcing: Finished\n"
     ]
    }
   ],
   "source": [
    "print('TwoBox_read_IPCC_AR5_historical_forcing: reading IPCC AR5 forcing data 1750-2011')\n",
    "year,co2_data,ghg_other_data,o3_tropos_data,o3_stratos_data,total_aero_data,landuse_data,h2o_stratos_data,bc_snow_data,contrails,solar_data,volc_data=(np.array(()),)*12\n",
    "with open(forcing_dir+'IPCC_AR5_historical_Forcings.txt', 'r') as f:\n",
    "    for i,line in enumerate(f):\n",
    "        if i > 1:       # skip header (first line)\n",
    "            values=line.strip('\\n').split()\n",
    "            if not values:\n",
    "                continue   # skip last row in file if it is empty\n",
    "            year=np.append(year, int(values[0]))\n",
    "            co2_data=np.append(co2_data, float(values[1]))\n",
    "            ghg_other_data=np.append(ghg_other_data, float(values[2]))\n",
    "            o3_tropos_data=np.append(o3_tropos_data, float(values[3]))\n",
    "            o3_stratos_data=np.append(o3_stratos_data, float(values[4]))\n",
    "            total_aero_data=np.append(total_aero_data, float(values[5]))\n",
    "            landuse_data=np.append(landuse_data, float(values[6]))\n",
    "            h2o_stratos_data=np.append(h2o_stratos_data, float(values[7]))\n",
    "            bc_snow_data=np.append(bc_snow_data, float(values[8]))\n",
    "            contrails=np.append(contrails, float(values[9]))\n",
    "            solar_data=np.append(solar_data, float(values[10]))\n",
    "            volc_data=np.append(volc_data, float(values[11]))\n",
    "print('TwoBox_read_IPCC_AR5_historical_forcing: Finished')\n",
    "      "
   ]
  }
 ],
 "metadata": {
  "kernelspec": {
   "display_name": "Python 3",
   "language": "python",
   "name": "python3"
  },
  "language_info": {
   "codemirror_mode": {
    "name": "ipython",
    "version": 3
   },
   "file_extension": ".py",
   "mimetype": "text/x-python",
   "name": "python",
   "nbconvert_exporter": "python",
   "pygments_lexer": "ipython3",
   "version": "3.6.9"
  }
 },
 "nbformat": 4,
 "nbformat_minor": 4
}
