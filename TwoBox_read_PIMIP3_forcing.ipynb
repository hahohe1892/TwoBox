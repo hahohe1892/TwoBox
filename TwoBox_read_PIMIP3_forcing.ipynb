{
 "cells": [
  {
   "cell_type": "code",
   "execution_count": 203,
   "metadata": {},
   "outputs": [
    {
     "name": "stdout",
     "output_type": "stream",
     "text": [
      "TwoBox_read_IPCC_PMIP3_forcing: reading PMIP3 forcing data 1750-2010\n"
     ]
    }
   ],
   "source": [
    "import numpy as np\n",
    "print('TwoBox_read_IPCC_PMIP3_forcing: reading PMIP3 forcing data 1750-2010')"
   ]
  },
  {
   "cell_type": "code",
   "execution_count": 221,
   "metadata": {},
   "outputs": [],
   "source": [
    "# well-mixed greenhouse gas changes (baseline 850 CE) \n",
    "wmghg_year, wmghg_data=(np.array(()),2)\n",
    "with open(forcing_dir+'wmghg.txt', 'r') as f:\n",
    "    for i,line in enumerate(f):\n",
    "        if i > 13:   # skip header (first 14 lines)\n",
    "            values=line.strip('\\n').split()\n",
    "            wmghg_year=np.append(wmghg_year, int(values[0]))\n",
    "            wmghg_data=np.append(wmghg_data,float(values[1].strip()))"
   ]
  },
  {
   "cell_type": "code",
   "execution_count": 223,
   "metadata": {},
   "outputs": [],
   "source": [
    "# volcanic aerosol forcing \n",
    "volc_year, volc_data1, volc_data2=(np.array(()),)*3\n",
    "with open(forcing_dir+'volc.txt', 'r') as f:\n",
    "    for i,line in enumerate(f):\n",
    "        if i > 13:   # skip header (first 14 lines)\n",
    "            values=line.strip('\\n').split()\n",
    "            volc_year=np.append(volc_year, int(values[0]))\n",
    "            volc_data1=np.append(volc_data1, float(values[1].strip()))\n",
    "            volc_data2=np.append(volc_data2, float(values[-1].strip()))"
   ]
  },
  {
   "cell_type": "code",
   "execution_count": 224,
   "metadata": {},
   "outputs": [],
   "source": [
    "# solar forcing (baseline PMOD 1976-2006))\n",
    "solar_year,solar_data1,solar_data2,solar_data3,solar_data4,solar_data5,solar_data6 = (np.array(()),)*7 \n",
    "with open(forcing_dir+'solar.txt', 'r') as f:\n",
    "    for i,line in enumerate(f):\n",
    "        if i > 23:       # skip header (first 24 lines)\n",
    "            values=line.strip('\\n').split()\n",
    "            solar_year=np.append(solar_year, int(values[0].strip('.')))\n",
    "            solar_data1=np.append(solar_data1,float(values[1]))\n",
    "            solar_data2=np.append(solar_data2, float(values[2]))\n",
    "            solar_data3=np.append(solar_data3, float(values[3]))\n",
    "            solar_data4=np.append(solar_data4, float(values[4]))\n",
    "            solar_data5=np.append(solar_data5, float(values[5]))\n",
    "            solar_data6=np.append(solar_data6, float(values[6]))"
   ]
  },
  {
   "cell_type": "code",
   "execution_count": 225,
   "metadata": {},
   "outputs": [],
   "source": [
    "# landuse changes  (baseline pristine conditions)\n",
    "landuse_year, landuse_data=(np.array(()),2)\n",
    "with open(forcing_dir+'landuse.txt', 'r') as f:\n",
    "    for i,line in enumerate(f):\n",
    "        if i > 13:    # skip header (first 14 lines)\n",
    "            values=line.strip('\\n').split()\n",
    "            landuse_year=np.append(landuse_year, int(values[0]))\n",
    "            landuse_data=np.append(landuse_data, float(values[1]))"
   ]
  },
  {
   "cell_type": "code",
   "execution_count": 226,
   "metadata": {},
   "outputs": [],
   "source": [
    "# rename\n",
    "wmghg_data=wmghg_data\n",
    "solar_data=solar_data2\n",
    "volc_data=volc_data1\n",
    "landuse_data=landuse_data"
   ]
  },
  {
   "cell_type": "code",
   "execution_count": 227,
   "metadata": {},
   "outputs": [
    {
     "name": "stdout",
     "output_type": "stream",
     "text": [
      "TwoBox_read_IPCC_PMIP3_forcing: Finished\n"
     ]
    }
   ],
   "source": [
    "print('TwoBox_read_IPCC_PMIP3_forcing: Finished')"
   ]
  }
 ],
 "metadata": {
  "kernelspec": {
   "display_name": "Python 3",
   "language": "python",
   "name": "python3"
  },
  "language_info": {
   "codemirror_mode": {
    "name": "ipython",
    "version": 3
   },
   "file_extension": ".py",
   "mimetype": "text/x-python",
   "name": "python",
   "nbconvert_exporter": "python",
   "pygments_lexer": "ipython3",
   "version": "3.6.9"
  }
 },
 "nbformat": 4,
 "nbformat_minor": 4
}
