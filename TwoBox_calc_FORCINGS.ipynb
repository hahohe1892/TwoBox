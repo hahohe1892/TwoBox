{
 "cells": [
  {
   "cell_type": "code",
   "execution_count": 2,
   "metadata": {},
   "outputs": [],
   "source": [
    "import numpy as np\n",
    "from scipy import interpolate\n",
    "from TwoBox_read_IPCC_AR5_future_forcing import TwoBox_read_IPCC_AR5_future_forcing\n",
    "from TwoBox_read_IPCC_AR5_historical_forcing import TwoBox_read_IPCC_AR5_historical_forcing\n",
    "from TwoBox_read_PMIP3_forcing import TwoBox_read_PMIP3_forcing"
   ]
  },
  {
   "cell_type": "code",
   "execution_count": 3,
   "metadata": {},
   "outputs": [
    {
     "name": "stdout",
     "output_type": "stream",
     "text": [
      "TwoBox_calc_FORCINGS: Using forcing dataset: PMIP3\n",
      "TwoBox_read_IPCC_PMIP3_forcing: reading PMIP3 forcing data 1750-2010\n",
      "TwoBox_read_IPCC_PMIP3_forcing: Finished\n",
      "TwoBox_calc_FORCINGS: Landuse forcings only goes to 1992: Assume constant forcing after this\n",
      "TwoBox_calc_FORCINGS: No manmade aerosol forcing in PMI3 using GISS direct aerosol forcing\n",
      "TwoBox_calc_FORCINGS: Manmade aerosol forcing assumed to be zero before 1800\n"
     ]
    }
   ],
   "source": [
    "if forcing_dataset.upper().strip() == 'PMIP3':\n",
    "    print('TwoBox_calc_FORCINGS: Using forcing dataset: ' + forcing_dataset.upper().strip())\n",
    "    \n",
    "    #read PMI3 forcings from Schmidt et al. 2010\n",
    "    wmghg_year,wmghg_data,solar_year,solar_data,volc_year,volc_data,landuse_year,landuse_data=TwoBox_read_PMIP3_forcing(forcing_dir)\n",
    "    \n",
    "    #add some data to landuse since it only goes to 1992;\n",
    "    #Assume data from 1992 and onwards same as 1992\n",
    "    print('TwoBox_calc_FORCINGS: Landuse forcings only goes to 1992: Assume constant forcing after this')\n",
    "    landuse_year=np.append(landuse_year, np.arange(1993,wmghg_year[-1]+1))\n",
    "    landuse_data=np.append(landuse_data, [landuse_data[-1]]*len(np.arange(1993,wmghg_year[-1]+1)))\n",
    "\n",
    "    indx_wmghg=np.logical_and(wmghg_year>=base_syr, wmghg_year<=base_eyr)\n",
    "    wmghg_data=wmghg_data-np.mean(wmghg_data[indx_wmghg])\n",
    "    \n",
    "    indx_solar=np.logical_and(solar_year>=base_syr, solar_year<=base_eyr)\n",
    "    solar_data=solar_data-np.mean(solar_data[indx_solar])\n",
    "    \n",
    "    indx_landuse=np.logical_and(landuse_year>=base_syr, landuse_year<=base_eyr)\n",
    "    landuse_data=landuse_data-np.mean(landuse_data[indx_landuse])\n",
    "    \n",
    "    #read in  aerosol forcing from GISS data\n",
    "    print('TwoBox_calc_FORCINGS: No manmade aerosol forcing in PMI3 using GISS direct aerosol forcing')\n",
    "    giss_file=forcing_dir+'GISS_FORCING_data.txt'\n",
    "    giss_yr, giss_ghg, giss_ozone, giss_StratH20, giss_solar, giss_LandUse, giss_SnowAlb, giss_StratAer, giss_BC, giss_ReflAer, giss_AIE=(np.array(()),)*11 \n",
    "    with open(giss_file, 'r') as f:\n",
    "        for i,line in enumerate(f):\n",
    "            if i > 9:   # skip header (first 10 lines)\n",
    "                values=line.strip('\\n').split()\n",
    "                giss_yr=np.append(giss_yr, float(values[0]))\n",
    "                giss_ghg=np.append(giss_ghg, float(values[1]))\n",
    "                giss_ozone=np.append(giss_ozone, float(values[2]))\n",
    "                giss_StratH20=np.append(giss_StratH20, float(values[3]))\n",
    "                giss_solar=np.append(giss_solar, float(values[4]))\n",
    "                giss_LandUse=np.append(giss_LandUse, float(values[5]))\n",
    "                giss_SnowAlb=np.append(giss_SnowAlb, float(values[6]))\n",
    "                giss_StratAer=np.append(giss_StratAer, float(values[7]))\n",
    "                giss_BC=np.append(giss_BC, float(values[8]))\n",
    "                giss_ReflAer=np.append(giss_ReflAer, float(values[9]))\n",
    "                giss_AIE=np.append(giss_AIE, float(values[10]))\n",
    "                \n",
    "    # total aerosol forcing (not indirect effect)\n",
    "    manaero_data=giss_BC+giss_ReflAer\n",
    "    \n",
    "    # add some data to  since it only goes from 1880;\n",
    "    # Assume data from 0 up to 1800\n",
    "    print('TwoBox_calc_FORCINGS: Manmade aerosol forcing assumed to be zero before 1800')\n",
    "    manaero_year=np.concatenate((np.arange(wmghg_year[0],1879+1), giss_yr))\n",
    "    manaero_data=np.concatenate((np.zeros(len(np.arange(wmghg_year[0], 1879+1))),manaero_data))\n",
    "    \n",
    "    # Only use data to year 2000\n",
    "    end_indx=int(np.where(manaero_year==2000)[0])+1\n",
    "    manaero_year=manaero_year[0:end_indx]\n",
    "    manaero_data=manaero_data[0:end_indx]\n",
    "    \n",
    "    indx_manaero=np.logical_and(manaero_year>=base_syr, manaero_year<=base_eyr)\n",
    "    manaero_data=manaero_data-np.mean(manaero_data[indx_manaero])\n",
    "    \n",
    "    #total forcings\n",
    "    total_year=wmghg_year\n",
    "    total_forcing=wmghg_data+solar_data+volc_data+landuse_data+manaero_data"
   ]
  },
  {
   "cell_type": "code",
   "execution_count": 21,
   "metadata": {},
   "outputs": [
    {
     "name": "stdout",
     "output_type": "stream",
     "text": [
      "TwoBox_read_IPCC_AR5_historical_forcing: reading IPCC AR5 forcing data 1750-2011\n",
      "TwoBox_read_IPCC_AR5_historical_forcing: Finished\n",
      "TwoBox_read_IPCC_AR5_future_forcing: reading IPCC AR5 forcing data 2010-2090\n",
      "TwoBox_read_IPCC_AR5_future_forcing: Finished\n"
     ]
    }
   ],
   "source": [
    "elif forcing_dataset.upper().strip() in ['IPCC_AR5_HISTORICAL_RCP26', 'IPCC_AR5_HISTORICAL_RCP45', 'IPCC_AR5_HISTORICAL_RCP60', 'IPCC_AR5_HISTORICAL_RCP85']:\n",
    "    #read IPCC AR5 forcings 1750-2100\n",
    "    #historical data   \n",
    "    hist_year,hist_co2_data,hist_ghg_other_data,hist_o3_tropos_data,hist_o3_stratos_data,hist_total_aero_data,hist_landuse_data,hist_h2o_stratos_data,hist_bc_snow_data,hist_contrails,hist_solar_data,hist_volc_data=TwoBox_read_IPCC_AR5_historical_forcing(forcing_dir)\n",
    "    \n",
    "    # total historical forcing\n",
    "    # if only historical use all forcings\n",
    "    if forcing_dataset.upper().strip() == 'IPCC_AR5_HISTORICAL':\n",
    "        hist_total_forcing=hist_co2_data+hist_ghg_other_data+hist_total_aero_data+hist_landuse_data+hist_solar_data+hist_volc_data\n",
    "    \n",
    "    # if historical + scenario do nto use solar and volcanic as they are not in scenarios \n",
    "    elif forcing_dataset.upper().strip() in ['IPCC_AR5_HISTORICAL_RCP26', 'IPCC_AR5_HISTORICAL_RCP45', 'IPCC_AR5_HISTORICAL_RCP60', 'IPCC_AR5_HISTORICAL_RCP85']:\n",
    "          hist_total_forcing=hist_co2_data+hist_ghg_other_data+hist_total_aero_data+hist_landuse_data\n",
    "            \n",
    "    # scenario data\n",
    "    scen_year,sresa1b,sresa1b_std,rcp26,rcp26_std,rcp45,rcp45_std,rcp60,rcp60_std,rcp85,rcp85_std=TwoBox_read_IPCC_AR5_future_forcing(forcing_dir)\n",
    "    if forcing_dataset.upper().strip() == 'IPCC_AR5_HISTORICAL_RCP26':\n",
    "        scen_total_forcing=rcp26\n",
    "    elif forcing_dataset.upper().strip() == 'IPCC_AR5_HISTORICAL_RCP45':\n",
    "        scen_total_forcing=rcp45\n",
    "    elif forcing_dataset.upper().strip() == 'IPCC_AR5_HISTORICAL_RCP60':\n",
    "        scen_total_forcing=rcp60\n",
    "    elif forcing_dataset.upper().strip() == 'IPCC_AR5_HISTORICAL_RCP85':\n",
    "        scen_total_forcing=rcp85\n",
    "    \n",
    "    # interpolate forcing to each year\n",
    "    scen_year2=np.arange(scen_year[0], scen_year[-1]+1)\n",
    "    scen_total_forcing_interp_fun=interpolate.interp1d(scen_year, scen_total_forcing, 'linear')\n",
    "    scen_total_forcing_interp=scen_total_forcing_interp_fun(scen_year2)\n",
    "    \n",
    "    # put data together\n",
    "    year=np.concatenate((hist_year[:-2], scen_year2))\n",
    "    total_forcing=np.concatenate((hist_total_forcing[:-2], scen_total_forcing_interp))\n",
    "    \n",
    "    # -----------\n",
    "    # merge them to not get a jump going from historical to scenario\n",
    "    # -----------\n",
    "    # Linear weight between historical and scenario forcings over the\n",
    "    # period merge_yr_low to merge_yr_high\n",
    "    merge_yr_low=2000\n",
    "    merge_yr_high=2022\n",
    "    transition=np.arange(merge_yr_low, merge_yr_high+1)\n",
    "    \n",
    "    weight=(year-merge_yr_low)/(merge_yr_high-merge_yr_low)\n",
    "    weight[year>merge_yr_high]=1\n",
    "    weight[year<merge_yr_low]=0\n",
    "    \n",
    "    scen_total_forcing_extrap_fun=interpolate.interp1d(scen_year, scen_total_forcing, fill_value='extrapolate')\n",
    "    scen_total_forcing_extrap=scen_total_forcing_extrap_fun(transition)\n",
    "    \n",
    "    hist_total_forcing_extrap_fun=interpolate.interp1d(hist_year, hist_total_forcing, fill_value='extrapolate')\n",
    "    hist_total_forcing_extrap=hist_total_forcing_extrap_fun(transition)\n",
    "\n",
    "    indx=np.intersect1d(year,transition, return_indices=True)[1]\n",
    "    total_forcing[indx]=(weight[indx]*scen_total_forcing_extrap)+((1-weight[indx])*hist_total_forcing_extrap)\n",
    "    total_year=year\n",
    "    \n",
    "    # individual components does no exist\n",
    "    wmghg_year=np.NaN\n",
    "    wmghg_data=np.NaN\n",
    "    solar_year=np.NaN\n",
    "    solar_data=np.NaN\n",
    "    volc_year=np.NaN\n",
    "    volc_data=np.NaN\n",
    "    landuse_year=np.NaN\n",
    "    landuse_data=np.NaN\n",
    "    manaero_year=np.NaN\n",
    "    manaero_data=np.NaN\n"
   ]
  },
  {
   "cell_type": "code",
   "execution_count": 26,
   "metadata": {},
   "outputs": [
    {
     "name": "stdout",
     "output_type": "stream",
     "text": [
      "TwoBox_read_IPCC_AR5_historical_forcing: reading IPCC AR5 forcing data 1750-2011\n",
      "TwoBox_read_IPCC_AR5_historical_forcing: Finished\n"
     ]
    }
   ],
   "source": [
    "elif forcing_dataset.upper().strip() == 'IPCC_AR5_HISTORICAL':\n",
    "    # read IPCC AR5 forcings 1750-2011\n",
    "    year,co2_data,ghg_other_data,o3_tropos_data,o3_stratos_data,total_aero_data,landuse_data,h2o_stratos_data,bc_snow_data,contrails,solar_data,volc_data=TwoBox_read_IPCC_AR5_historical_forcing(forcing_dir)\n",
    "    \n",
    "    # total forcing\n",
    "    total_year=year\n",
    "    total_forcing=co2_data+ghg_other_data+total_aero_data+landuse_data+solar_data+volc_data\n",
    "    \n",
    "    # rename\n",
    "    wmghg_year=year\n",
    "    wmghg_data=co2_data+ghg_other_data\n",
    "    solar_year=year\n",
    "    solar_data=solar_data\n",
    "    volc_year=year\n",
    "    volc_data=volc_data\n",
    "    landuse_year=year\n",
    "    landuse_data=landuse_data\n",
    "    manaero_year=year\n",
    "    manaero_data=total_aero_data\n",
    "    \n",
    "\n",
    "\n"
   ]
  },
  {
   "cell_type": "code",
   "execution_count": null,
   "metadata": {},
   "outputs": [],
   "source": [
    "else:\n",
    "    print('TwoBox_calc_FORCINGS: ERROR: Forcing dataset not recognized')\n",
    "\n",
    "print('TwoBox_calc_FORCINGS:Finished')"
   ]
  }
 ],
 "metadata": {
  "kernelspec": {
   "display_name": "Python 3",
   "language": "python",
   "name": "python3"
  },
  "language_info": {
   "codemirror_mode": {
    "name": "ipython",
    "version": 3
   },
   "file_extension": ".py",
   "mimetype": "text/x-python",
   "name": "python",
   "nbconvert_exporter": "python",
   "pygments_lexer": "ipython3",
   "version": "3.6.9"
  }
 },
 "nbformat": 4,
 "nbformat_minor": 4
}
