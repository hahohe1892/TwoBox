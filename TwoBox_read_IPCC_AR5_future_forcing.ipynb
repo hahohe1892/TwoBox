{
 "cells": [
  {
   "cell_type": "code",
   "execution_count": 28,
   "metadata": {},
   "outputs": [
    {
     "name": "stdout",
     "output_type": "stream",
     "text": [
      "TwoBox_read_IPCC_AR5_future_forcing: reading IPCC AR5 forcing data 2010-2090\n",
      "TwoBox_read_IPCC_AR5_future_forcing: Finished\n"
     ]
    }
   ],
   "source": [
    "import numpy as np\n",
    "\n",
    "print('TwoBox_read_IPCC_AR5_future_forcing: reading IPCC AR5 forcing data 2010-2090')\n",
    "year,sresa1b,sresa1b_std,rcp26,rcp26_std,rcp45,rcp45_std,rcp60,rcp60_std,rcp85,rcp85_std=(np.array(()),)*11\n",
    "with open(forcing_dir+'IPCC_AR5_ScenarioForcings.txt', 'r', errors='ignore') as f:\n",
    "    for i,line in enumerate(f):\n",
    "        if i > 26 :       # skip header (first 27 lines)\n",
    "            values=line.strip('\\n').split()\n",
    "            if not values:\n",
    "                continue   # skip last row in file if it is empty\n",
    "            year=np.append(year, int(values[0]))\n",
    "            sresa1b=np.append(sresa1b, float(values[1]))\n",
    "            sresa1b_std=np.append(sresa1b_std, float(values[2]))\n",
    "            rcp26=np.append(rcp26, float(values[3]))\n",
    "            rcp26_std=np.append(rcp26_std, float(values[4]))\n",
    "            rcp45=np.append(rcp45, float(values[5]))\n",
    "            rcp45_std=np.append(rcp45_std, float(values[6]))\n",
    "            rcp60=np.append(rcp60, float(values[7]))\n",
    "            rcp60_std=np.append(rcp60_std, float(values[8]))\n",
    "            rcp85=np.append(rcp85, float(values[9]))\n",
    "            rcp85_std=np.append(rcp85_std, float(values[10]))\n",
    "            \n",
    "print('TwoBox_read_IPCC_AR5_future_forcing: Finished')"
   ]
  }
 ],
 "metadata": {
  "kernelspec": {
   "display_name": "Python 3",
   "language": "python",
   "name": "python3"
  },
  "language_info": {
   "codemirror_mode": {
    "name": "ipython",
    "version": 3
   },
   "file_extension": ".py",
   "mimetype": "text/x-python",
   "name": "python",
   "nbconvert_exporter": "python",
   "pygments_lexer": "ipython3",
   "version": "3.6.9"
  }
 },
 "nbformat": 4,
 "nbformat_minor": 4
}
